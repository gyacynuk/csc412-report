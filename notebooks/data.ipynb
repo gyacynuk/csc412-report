{
  "nbformat": 4,
  "nbformat_minor": 0,
  "metadata": {
    "colab": {
      "name": "CSC412 Data.ipynb",
      "provenance": [],
      "collapsed_sections": [],
      "machine_shape": "hm",
      "include_colab_link": true
    },
    "kernelspec": {
      "display_name": "Python 3",
      "name": "python3"
    },
    "language_info": {
      "name": "python"
    }
  },
  "cells": [
    {
      "cell_type": "markdown",
      "metadata": {
        "id": "view-in-github",
        "colab_type": "text"
      },
      "source": [
        "<a href=\"https://colab.research.google.com/gist/gyacynuk/735711c82835549f000f82a7271ea06d/csc412-data.ipynb\" target=\"_parent\"><img src=\"https://colab.research.google.com/assets/colab-badge.svg\" alt=\"Open In Colab\"/></a>"
      ]
    },
    {
      "cell_type": "code",
      "metadata": {
        "colab": {
          "base_uri": "https://localhost:8080/"
        },
        "id": "k-RfSICli4IP",
        "outputId": "d2b3b72e-634f-4c04-a289-9112886324ce"
      },
      "source": [
        "from google.colab import drive\n",
        "drive.mount('/content/drive')"
      ],
      "execution_count": null,
      "outputs": [
        {
          "output_type": "stream",
          "text": [
            "Mounted at /content/drive\n"
          ],
          "name": "stdout"
        }
      ]
    },
    {
      "cell_type": "code",
      "metadata": {
        "id": "QvRZyn7lixJN"
      },
      "source": [
        "import numpy as np\n",
        "try:\n",
        "  import pypianoroll\n",
        "except ModuleNotFoundError:\n",
        "  !pip install pypianoroll\n",
        "  import pypianoroll\n",
        "from scipy.sparse import csc_matrix\n",
        "import json\n",
        "from pathlib import Path\n",
        "import torch\n",
        "from torch.utils import data as Data\n",
        "from torch.utils.data import Dataset, DataLoader, random_split, TensorDataset"
      ],
      "execution_count": null,
      "outputs": []
    },
    {
      "cell_type": "code",
      "metadata": {
        "id": "pubN13tPM7-2"
      },
      "source": [
        "# Borrowed code from https://github.com/salu133445/lakh-pianoroll-dataset/blob/main/src/pypianoroll/multitrack.py\n",
        "\n",
        "def load(filepath):\n",
        "    \"\"\"\n",
        "    Load a .npz file. Supports only files previously saved by\n",
        "    :meth:`pypianoroll.Multitrack.save`.\n",
        "\n",
        "    Parameters\n",
        "    ----------\n",
        "    filepath : str\n",
        "        The path to the .npz file.\n",
        "    \"\"\"\n",
        "    def reconstruct_sparse(target_dict, name):\n",
        "        \"\"\"\n",
        "        Return the reconstructed scipy.sparse.csc_matrix, whose components\n",
        "        are stored in `target_dict` with prefix given as `name`.\n",
        "        \"\"\"\n",
        "        return csc_matrix((target_dict[name+'_csc_data'],\n",
        "                            target_dict[name+'_csc_indices'],\n",
        "                            target_dict[name+'_csc_indptr']),\n",
        "                            shape=target_dict[name+'_csc_shape']).toarray()\n",
        "\n",
        "    with np.load(filepath) as loaded:\n",
        "        if 'info.json' not in loaded:\n",
        "            raise ValueError(\"Cannot find 'info.json' in the .npz file\")\n",
        "        info_dict = json.loads(loaded['info.json'].decode('utf-8'))\n",
        "        name = info_dict['name']\n",
        "        beat_resolution = info_dict['beat_resolution']\n",
        "\n",
        "        tempo = loaded['tempo']\n",
        "        if 'downbeat' in loaded.files:\n",
        "            downbeat = loaded['downbeat']\n",
        "        else:\n",
        "            downbeat = None\n",
        "\n",
        "        idx = 0\n",
        "        tracks = []\n",
        "        while str(idx) in info_dict:\n",
        "            pianoroll = reconstruct_sparse(loaded,\n",
        "                                            'pianoroll_{}'.format(idx))\n",
        "            track = pypianoroll.StandardTrack(pianoroll=pianoroll,\n",
        "                                        program=info_dict[str(idx)]['program'],\n",
        "                                        is_drum=info_dict[str(idx)]['is_drum'],\n",
        "                                        name=info_dict[str(idx)]['name'])\n",
        "            tracks.append(track)\n",
        "            idx += 1\n",
        "\n",
        "        return pypianoroll.Multitrack(name=name, resolution=beat_resolution, tempo=tempo, downbeat=downbeat, tracks=tracks)"
      ],
      "execution_count": null,
      "outputs": []
    },
    {
      "cell_type": "code",
      "metadata": {
        "id": "exk9ArZ_sirR"
      },
      "source": [
        "# Borrowed code from https://github.com/salu133445/musegan/blob/main/src/collect_data.py\n",
        "\n",
        "FAMILY_NAMES = [\n",
        "    \"drum\",\n",
        "    \"bass\",\n",
        "    \"guitar\",\n",
        "    \"string\",\n",
        "    \"piano\",\n",
        "]\n",
        "\n",
        "FAMILY_THRESHOLDS = [\n",
        "    (2, 24),  # drum\n",
        "    (1, 96),  # bass\n",
        "    (2, 156),  # guitar\n",
        "    (2, 156),  # string,\n",
        "    (2, 48),  # piano\n",
        "]\n",
        "\n",
        "BATCH_SIZE = 200"
      ],
      "execution_count": null,
      "outputs": []
    },
    {
      "cell_type": "code",
      "metadata": {
        "id": "f14-Ws23skZN"
      },
      "source": [
        "  # Borrowed code from https://github.com/salu133445/musegan/blob/main/src/collect_data.py\n",
        "\n",
        "def check_which_family(track):\n",
        "    \"\"\" Returns a Numpy array of 5 booleans, where each is true iff the track's\n",
        "    program corresponds to a drum, bass, guitar, string or piano.\n",
        "    \"\"\"\n",
        "    def is_piano(program, is_drum):\n",
        "        return not is_drum and (\n",
        "            (program >= 0 and program <= 7)\n",
        "            or (program >= 16 and program <= 23)\n",
        "        )\n",
        "\n",
        "    def is_guitar(program):\n",
        "        return program >= 24 and program <= 31\n",
        "\n",
        "    def is_bass(program):\n",
        "        return program >= 32 and program <= 39\n",
        "\n",
        "    def is_string(program):\n",
        "        return program >= 40 and program <= 51\n",
        "\n",
        "    return np.array(\n",
        "        [\n",
        "            track.is_drum,\n",
        "            is_bass(track.program),\n",
        "            is_guitar(track.program),\n",
        "            is_string(track.program),\n",
        "            is_piano(track.program, track.is_drum),\n",
        "        ]\n",
        "    )"
      ],
      "execution_count": null,
      "outputs": []
    },
    {
      "cell_type": "code",
      "metadata": {
        "id": "e982GNgAsm6a"
      },
      "source": [
        "# Borrowed code from https://github.com/salu133445/musegan/blob/main/src/collect_data.py\n",
        "\n",
        "def segment_quality(pianoroll, threshold_pitch, threshold_beats):\n",
        "    pitch_sum = np.sum(np.sum(pianoroll, axis=0) > 0)\n",
        "    beat_sum = np.sum(np.sum(pianoroll, axis=1) > 0)\n",
        "    \n",
        "    # Custom check:  Only select tracks such that at least one note was played over\n",
        "    # less than 50% of the bar, not including the first and last 8 timesteps.\n",
        "    clipped = pianoroll[8:-8]\n",
        "    notes_played = np.sum(pianoroll[8:-8], axis=0)\n",
        "    musically_diverse = np.any(notes_played[np.nonzero(notes_played)] < clipped.shape[0] // 2)\n",
        "    \n",
        "    return (\n",
        "        musically_diverse and (pitch_sum >= threshold_pitch) and (beat_sum >= threshold_beats),\n",
        "        (pitch_sum, beat_sum),\n",
        "    )"
      ],
      "execution_count": null,
      "outputs": []
    },
    {
      "cell_type": "code",
      "metadata": {
        "id": "SvFPGTzkjT-e"
      },
      "source": [
        "# Borrowed code from https://github.com/salu133445/musegan/blob/main/src/collect_data.py\n",
        "\n",
        "def collect_data(input_dir, output_file):\n",
        "    \"\"\"Collect training data from .npz files.  Given an input directory path\n",
        "    (path to the LPD dataset), reads all the .npz files recursively and creates\n",
        "    a .npz file with all the individual bars.\n",
        "    \"\"\"\n",
        "    # How many songs to process before saving\n",
        "    batch_num = 0\n",
        "    batch_size = 2000\n",
        "\n",
        "    # Each sample is a single bar.\n",
        "    num_consecutive_bar = 1\n",
        "    \n",
        "    # The resolution is 24 across all samples.\n",
        "    resolution = 24\n",
        "\n",
        "    # Build up a list of \"good\" bars.\n",
        "    ok_segment_list = []\n",
        "\n",
        "    # Search directory recursively.\n",
        "    filenames = Path(input_dir).rglob(\"*.npz\")\n",
        "\n",
        "    i = 0\n",
        "    for filename in filenames:\n",
        "        multitrack = load(filename)\n",
        "\n",
        "        # Only consider tracks with a resolution value of 24.\n",
        "        if multitrack.resolution != 24:\n",
        "            print('Resolution of {} is {}'.format(filename, multitrack.resolution))\n",
        "            continue\n",
        "\n",
        "        # Resolution is the temporal resolution for a quarter note, so multiply\n",
        "        # it by 4 to obtain the value for a full bar.\n",
        "        num_bar = len(multitrack.downbeat) // (resolution * 4)\n",
        "        \n",
        "        # Loop up until the bar before the final one, in case the track ends\n",
        "        # before the final bar should end.\n",
        "        for bidx in range(num_bar - num_consecutive_bar):\n",
        "\n",
        "            # Multiply by 4 since there are 4 notes in a bar.\n",
        "            st = bidx * num_consecutive_bar * resolution * 4\n",
        "            ed = st + num_consecutive_bar * resolution * 4\n",
        "\n",
        "            # Find the \"best\" piano track for this bar of this multitrack.\n",
        "            best_track = None\n",
        "            best_score = -1\n",
        "            for track in multitrack.tracks:\n",
        "\n",
        "                # Discard non-piano tracks.\n",
        "                tmp_map = check_which_family(track)\n",
        "                piano_family = 4\n",
        "                if not tmp_map[piano_family]:\n",
        "                    continue\n",
        "\n",
        "                tmp_pianoroll = track[st:ed]\n",
        "                if np.count_nonzero(tmp_pianoroll) == 0:\n",
        "                    continue\n",
        "                is_ok, score = segment_quality(\n",
        "                    tmp_pianoroll,\n",
        "                    FAMILY_THRESHOLDS[piano_family][0],\n",
        "                    FAMILY_THRESHOLDS[piano_family][1],\n",
        "                )\n",
        "\n",
        "                score = sum(score)\n",
        "                if is_ok and score > best_score:\n",
        "                    best_track = tmp_pianoroll\n",
        "                    best_score = score\n",
        "\n",
        "            if best_score != -1:\n",
        "                # Flatten the best track and add a new axis.\n",
        "                best_track = np.reshape(best_track, (1, -1))\n",
        "                ok_segment_list.append(best_track)\n",
        "\n",
        "      \n",
        "        # Save batch of processes songs\n",
        "        i += 1\n",
        "        if i >= batch_size and len(ok_segment_list) > 0:\n",
        "            batch_output_file = output_file.replace('.npz', '-{}.npz'.format(batch_num))\n",
        "\n",
        "            result = np.concatenate(ok_segment_list, axis=0)\n",
        "\n",
        "            # Convert pianorolls to a boolean matrix.\n",
        "            result = (result > 0).astype(bool)\n",
        "            print(f'Output shape:  {result.shape}')\n",
        "\n",
        "            if batch_output_file.endswith(\".npz\"):\n",
        "                np.savez_compressed(\n",
        "                    batch_output_file,\n",
        "                    nonzero=np.array(result.nonzero()),\n",
        "                    shape=result.shape\n",
        "                )\n",
        "            else:\n",
        "                np.save(batch_output_file, result)\n",
        "            print(f\"Successfully saved training data to : {batch_output_file}\")\n",
        "\n",
        "            # Clear segment list and incr batch_num\n",
        "            i = 0\n",
        "            batch_num += 1\n",
        "            ok_segment_list = []\n",
        "\n",
        "    # Save final batch\n",
        "    if len(ok_segment_list) > 0:\n",
        "        batch_output_file = output_file.replace('.npz', '-{}.npz'.format(batch_num))\n",
        "        result = np.concatenate(ok_segment_list, axis=0)\n",
        "\n",
        "        # Convert pianorolls to a boolean matrix.\n",
        "        result = (result > 0).astype(bool)\n",
        "        print(f'Output shape:  {result.shape}')\n",
        "\n",
        "        if batch_output_file.endswith(\".npz\"):\n",
        "            np.savez_compressed(\n",
        "                batch_output_file,\n",
        "                nonzero=np.array(result.nonzero()),\n",
        "                shape=result.shape\n",
        "            )\n",
        "        else:\n",
        "            np.save(batch_output_file, result)\n",
        "        print(f\"Successfully saved training data to : {batch_output_file}\")"
      ],
      "execution_count": null,
      "outputs": []
    },
    {
      "cell_type": "code",
      "metadata": {
        "colab": {
          "background_save": true,
          "base_uri": "https://localhost:8080/"
        },
        "id": "3THB2EKmtZaa",
        "outputId": "b4755132-1f83-4a54-e7e6-1a8027e805d1"
      },
      "source": [
        "collect_data('/content/drive/MyDrive/CSC412/data/lpd/lpd_cleansed/', '/content/drive/MyDrive/CSC412/data/dataset.npz')"
      ],
      "execution_count": null,
      "outputs": [
        {
          "output_type": "stream",
          "text": [
            "Output shape:  (4519, 12288)\n",
            "Successfully saved training data to : /content/drive/MyDrive/CSC412/data/dataset-0.npz\n",
            "Output shape:  (4966, 12288)\n",
            "Successfully saved training data to : /content/drive/MyDrive/CSC412/data/dataset-1.npz\n",
            "Output shape:  (5610, 12288)\n",
            "Successfully saved training data to : /content/drive/MyDrive/CSC412/data/dataset-2.npz\n",
            "Output shape:  (5148, 12288)\n",
            "Successfully saved training data to : /content/drive/MyDrive/CSC412/data/dataset-3.npz\n",
            "Output shape:  (5649, 12288)\n",
            "Successfully saved training data to : /content/drive/MyDrive/CSC412/data/dataset-4.npz\n",
            "Output shape:  (4442, 12288)\n",
            "Successfully saved training data to : /content/drive/MyDrive/CSC412/data/dataset-5.npz\n",
            "Output shape:  (4212, 12288)\n",
            "Successfully saved training data to : /content/drive/MyDrive/CSC412/data/dataset-6.npz\n",
            "Output shape:  (4689, 12288)\n",
            "Successfully saved training data to : /content/drive/MyDrive/CSC412/data/dataset-7.npz\n",
            "Output shape:  (4934, 12288)\n",
            "Successfully saved training data to : /content/drive/MyDrive/CSC412/data/dataset-8.npz\n",
            "Output shape:  (6009, 12288)\n",
            "Successfully saved training data to : /content/drive/MyDrive/CSC412/data/dataset-9.npz\n",
            "Output shape:  (3643, 12288)\n",
            "Successfully saved training data to : /content/drive/MyDrive/CSC412/data/dataset-10.npz\n"
          ],
          "name": "stdout"
        }
      ]
    },
    {
      "cell_type": "code",
      "metadata": {
        "id": "ersJHxoOrZAs"
      },
      "source": [
        "def load_data_from_npz(filename):\n",
        "    \"\"\"Load and return the training data from a npz file (sparse format).\"\"\"\n",
        "    with np.load(filename) as f:\n",
        "        data = np.zeros(f['shape'], np.bool_)\n",
        "        data[[x for x in f['nonzero']]] = True\n",
        "    return data\n",
        "\n",
        "\n",
        "def get_dataloader(data_filepath):\n",
        "    np_training_data = load_data_from_npz(data_filepath)\n",
        "    x_train = torch.from_numpy(np_training_data)\n",
        "\n",
        "    dataset = TensorDataset(x_train)\n",
        "    return DataLoader(dataset, batch_size=BATCH_SIZE, shuffle=True)\n",
        "\n",
        "get_dataloader('/content/drive/MyDrive/CSC412/data/dataset.npz')"
      ],
      "execution_count": null,
      "outputs": []
    }
  ]
}